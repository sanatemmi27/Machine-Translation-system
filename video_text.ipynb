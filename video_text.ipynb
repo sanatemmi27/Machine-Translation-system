{
 "cells": [
  {
   "cell_type": "code",
   "execution_count": 4,
   "metadata": {
    "colab": {},
    "colab_type": "code",
    "id": "WHfhMuAU9ZdY"
   },
   "outputs": [
    {
     "name": "stdout",
     "output_type": "stream",
     "text": [
      "Processing c:\\users\\test\\appdata\\local\\pip\\cache\\wheels\\bf\\7d\\8d\\44323f01f0cc80ac445b8b707c4716458d7db58f00c6007830\\moviepy-1.0.1-py3-none-any.whl\n",
      "Requirement already satisfied: decorator<5.0,>=4.0.2 in c:\\users\\test\\anaconda3\\lib\\site-packages (from moviepy) (4.3.0)\n",
      "Collecting imageio<3.0,>=2.5; python_version >= \"3.4\"\n",
      "  Using cached imageio-2.8.0-py3-none-any.whl (3.3 MB)\n",
      "Requirement already satisfied: numpy in c:\\users\\test\\anaconda3\\lib\\site-packages (from moviepy) (1.18.0)\n",
      "Requirement already satisfied: imageio-ffmpeg>=0.2.0; python_version >= \"3.4\" in c:\\users\\test\\anaconda3\\lib\\site-packages (from moviepy) (0.4.1)\n",
      "Requirement already satisfied: proglog<=1.0.0 in c:\\users\\test\\anaconda3\\lib\\site-packages (from moviepy) (0.1.9)\n",
      "Requirement already satisfied: requests<3.0,>=2.8.1 in c:\\users\\test\\anaconda3\\lib\\site-packages (from moviepy) (2.22.0)\n",
      "Requirement already satisfied: tqdm<5.0,>=4.11.2 in c:\\users\\test\\anaconda3\\lib\\site-packages (from moviepy) (4.42.0)\n",
      "Requirement already satisfied: pillow in c:\\users\\test\\anaconda3\\lib\\site-packages (from imageio<3.0,>=2.5; python_version >= \"3.4\"->moviepy) (5.1.0)\n",
      "Requirement already satisfied: chardet<3.1.0,>=3.0.2 in c:\\users\\test\\anaconda3\\lib\\site-packages (from requests<3.0,>=2.8.1->moviepy) (3.0.4)\n",
      "Requirement already satisfied: idna<2.9,>=2.5 in c:\\users\\test\\anaconda3\\lib\\site-packages (from requests<3.0,>=2.8.1->moviepy) (2.6)\n",
      "Requirement already satisfied: urllib3!=1.25.0,!=1.25.1,<1.26,>=1.21.1 in c:\\users\\test\\anaconda3\\lib\\site-packages (from requests<3.0,>=2.8.1->moviepy) (1.22)\n",
      "Requirement already satisfied: certifi>=2017.4.17 in c:\\users\\test\\anaconda3\\lib\\site-packages (from requests<3.0,>=2.8.1->moviepy) (2019.11.28)\n",
      "Installing collected packages: imageio, moviepy\n",
      "  Attempting uninstall: imageio\n",
      "    Found existing installation: imageio 2.3.0\n"
     ]
    },
    {
     "name": "stderr",
     "output_type": "stream",
     "text": [
      "ERROR: Cannot uninstall 'imageio'. It is a distutils installed project and thus we cannot accurately determine which files belong to it which would lead to only a partial uninstall.\n"
     ]
    }
   ],
   "source": [
    "# !pip install speechrecognition\n",
    "# !pip install ffmpeg\n",
    "# !pip install pydub\n",
    "# !pip install requests\n",
    "# !pip install converter\n",
    "# !pip install PythonVideoConverter\n",
    "!pip install moviepy\n",
    "# !pip install pipwin\n",
    "# !pipwin install pyaudio\n",
    "\n"
   ]
  },
  {
   "cell_type": "code",
   "execution_count": 6,
   "metadata": {},
   "outputs": [
    {
     "name": "stdout",
     "output_type": "stream",
     "text": [
      "Found existing installation: imageio 2.3.0\n"
     ]
    },
    {
     "name": "stderr",
     "output_type": "stream",
     "text": [
      "ERROR: Cannot uninstall 'imageio'. It is a distutils installed project and thus we cannot accurately determine which files belong to it which would lead to only a partial uninstall.\n"
     ]
    }
   ],
   "source": [
    "!pip uninstall imageio\n"
   ]
  },
  {
   "cell_type": "code",
   "execution_count": 8,
   "metadata": {
    "colab": {
     "base_uri": "https://localhost:8080/",
     "height": 126
    },
    "colab_type": "code",
    "id": "TAUUwrpm8s7Z",
    "outputId": "083f3bb2-d94b-4e3d-ad4c-9cc8f2f2cd11"
   },
   "outputs": [
    {
     "name": "stderr",
     "output_type": "stream",
     "text": [
      "C:\\Users\\test\\Anaconda3\\lib\\site-packages\\pydub\\utils.py:165: RuntimeWarning: Couldn't find ffmpeg or avconv - defaulting to ffmpeg, but may not work\n",
      "  warn(\"Couldn't find ffmpeg or avconv - defaulting to ffmpeg, but may not work\", RuntimeWarning)\n"
     ]
    },
    {
     "data": {
      "text/plain": [
       "'C:\\\\github_projects\\\\Machine Translation using API'"
      ]
     },
     "execution_count": 8,
     "metadata": {},
     "output_type": "execute_result"
    }
   ],
   "source": [
    "import os\n",
    "import speech_recognition as sr\n",
    "import ffmpeg\n",
    "import os\n",
    "#from moviepy.editor import *\n",
    "from os import path\n",
    "from pydub import AudioSegment\n",
    "\n",
    "os.getcwd()"
   ]
  },
  {
   "cell_type": "code",
   "execution_count": 9,
   "metadata": {
    "colab": {
     "base_uri": "https://localhost:8080/",
     "height": 72
    },
    "colab_type": "code",
    "id": "IR--E95H8-fn",
    "outputId": "a2ab4a09-ac6f-4381-a217-514be295f60c"
   },
   "outputs": [
    {
     "ename": "NameError",
     "evalue": "name 'VideoFileClip' is not defined",
     "output_type": "error",
     "traceback": [
      "\u001b[1;31m---------------------------------------------------------------------------\u001b[0m",
      "\u001b[1;31mNameError\u001b[0m                                 Traceback (most recent call last)",
      "\u001b[1;32m<ipython-input-9-0f86ece26806>\u001b[0m in \u001b[0;36m<module>\u001b[1;34m()\u001b[0m\n\u001b[0;32m      1\u001b[0m \u001b[1;31m#convert from mp4 to mp3\u001b[0m\u001b[1;33m\u001b[0m\u001b[1;33m\u001b[0m\u001b[0m\n\u001b[1;32m----> 2\u001b[1;33m \u001b[0mvideo\u001b[0m \u001b[1;33m=\u001b[0m \u001b[0mVideoFileClip\u001b[0m\u001b[1;33m(\u001b[0m\u001b[0mos\u001b[0m\u001b[1;33m.\u001b[0m\u001b[0mpath\u001b[0m\u001b[1;33m.\u001b[0m\u001b[0mjoin\u001b[0m\u001b[1;33m(\u001b[0m\u001b[1;34m\"/content/introduction.mp4\"\u001b[0m\u001b[1;33m)\u001b[0m\u001b[1;33m)\u001b[0m\u001b[1;33m\u001b[0m\u001b[0m\n\u001b[0m\u001b[0;32m      3\u001b[0m \u001b[0mvideo\u001b[0m\u001b[1;33m.\u001b[0m\u001b[0maudio\u001b[0m\u001b[1;33m.\u001b[0m\u001b[0mwrite_audiofile\u001b[0m\u001b[1;33m(\u001b[0m\u001b[0mos\u001b[0m\u001b[1;33m.\u001b[0m\u001b[0mpath\u001b[0m\u001b[1;33m.\u001b[0m\u001b[0mjoin\u001b[0m\u001b[1;33m(\u001b[0m\u001b[1;34m\"/content/introduction.mp3\"\u001b[0m\u001b[1;33m)\u001b[0m\u001b[1;33m)\u001b[0m\u001b[1;33m\u001b[0m\u001b[0m\n",
      "\u001b[1;31mNameError\u001b[0m: name 'VideoFileClip' is not defined"
     ]
    }
   ],
   "source": [
    "#convert from mp4 to mp3\n",
    "video = VideoFileClip(os.path.join(\"/content/introduction.mp4\"))\n",
    "video.audio.write_audiofile(os.path.join(\"/content/introduction.mp3\"))"
   ]
  },
  {
   "cell_type": "code",
   "execution_count": 0,
   "metadata": {
    "colab": {
     "base_uri": "https://localhost:8080/",
     "height": 35
    },
    "colab_type": "code",
    "id": "9af8KSsK8-ii",
    "outputId": "22801374-c7d5-456b-8860-f7fa6a55a337"
   },
   "outputs": [
    {
     "data": {
      "text/plain": [
       "<_io.BufferedRandom name='/content/introduction.wav'>"
      ]
     },
     "execution_count": 14,
     "metadata": {
      "tags": []
     },
     "output_type": "execute_result"
    }
   ],
   "source": [
    "#convert from mp3 to wav\n",
    "sound = AudioSegment.from_mp3(\"/content/introduction.mp3\")\n",
    "sound.export(\"/content/introduction.wav\", format=\"wav\")"
   ]
  },
  {
   "cell_type": "code",
   "execution_count": 0,
   "metadata": {
    "colab": {
     "base_uri": "https://localhost:8080/",
     "height": 55
    },
    "colab_type": "code",
    "id": "UYDkk4oZ8-lG",
    "outputId": "6db881f3-576a-4cba-b1e1-8382a3afb7b1"
   },
   "outputs": [
    {
     "name": "stdout",
     "output_type": "stream",
     "text": [
      "times when we are new to a school or a workplace we have to introduce ourselves and that's not an easy thing to do especially if English is not your first language so here is a very easy template that you can memorize for a self-introduction and it goes like this hi my name is and you just put your name here and I am from and you say the country that you are from so let's take a look at a list of names and countries here we have met and Thailand Frank and Switzerland and Han and Peru so all we have to do is substitute the name and Country into these blanks here so let's take a look at the first example May\n"
     ]
    }
   ],
   "source": [
    "r = sr.Recognizer()\n",
    "audio__ = sr.AudioFile('introduction.wav')\n",
    "\n",
    "with audio__ as source:\n",
    "   audio = r.record(source, offset=0)\n",
    "\n",
    "print(r.recognize_google(audio))"
   ]
  },
  {
   "cell_type": "code",
   "execution_count": 0,
   "metadata": {
    "colab": {
     "base_uri": "https://localhost:8080/",
     "height": 55
    },
    "colab_type": "code",
    "id": "nPyXwiAc8-nu",
    "outputId": "c86bdff3-3a10-479a-ded0-bef4d6da8266"
   },
   "outputs": [
    {
     "data": {
      "text/plain": [
       "\"we are new to a school or a workplace we have to introduce ourselves and that's not an easy thing to do especially if English is not your first language so here is a very easy template that you can memorize for a self-introduction and it goes like this hi my name is and you just put your name here and I am from and you say the country that you are from so let's take a look at a list of names and countries here we have met and Thailand Frank and Switzerland and Han and Peru so all we have to do is substitute the name and Country into these blanks here so let's take a look at the first example May and tile\""
      ]
     },
     "execution_count": 16,
     "metadata": {
      "tags": []
     },
     "output_type": "execute_result"
    }
   ],
   "source": [
    "audio = sr.AudioFile('introduction.wav')\n",
    "\n",
    "with audio as source:\n",
    "    r.adjust_for_ambient_noise(source)\n",
    "    audio = r.record(source, duration=100 )\n",
    "\n",
    "r.recognize_google(audio)\n"
   ]
  },
  {
   "cell_type": "code",
   "execution_count": 0,
   "metadata": {
    "colab": {},
    "colab_type": "code",
    "id": "UGzuyF2D8-qC"
   },
   "outputs": [],
   "source": []
  },
  {
   "cell_type": "code",
   "execution_count": 0,
   "metadata": {
    "colab": {},
    "colab_type": "code",
    "id": "YC2Jf1dR8-si"
   },
   "outputs": [],
   "source": []
  },
  {
   "cell_type": "code",
   "execution_count": 0,
   "metadata": {
    "colab": {},
    "colab_type": "code",
    "id": "MjPpyeIp8-vo"
   },
   "outputs": [],
   "source": []
  },
  {
   "cell_type": "code",
   "execution_count": 0,
   "metadata": {
    "colab": {},
    "colab_type": "code",
    "id": "GJ3PcDw_8-10"
   },
   "outputs": [],
   "source": []
  },
  {
   "cell_type": "code",
   "execution_count": 0,
   "metadata": {
    "colab": {},
    "colab_type": "code",
    "id": "W4pz5gmj8-42"
   },
   "outputs": [],
   "source": []
  },
  {
   "cell_type": "code",
   "execution_count": 0,
   "metadata": {
    "colab": {},
    "colab_type": "code",
    "id": "qI3TM_Hi8_BH"
   },
   "outputs": [],
   "source": []
  }
 ],
 "metadata": {
  "accelerator": "GPU",
  "colab": {
   "name": "video_text.ipynb",
   "provenance": [],
   "toc_visible": true
  },
  "kernelspec": {
   "display_name": "Python 3",
   "language": "python",
   "name": "python3"
  },
  "language_info": {
   "codemirror_mode": {
    "name": "ipython",
    "version": 3
   },
   "file_extension": ".py",
   "mimetype": "text/x-python",
   "name": "python",
   "nbconvert_exporter": "python",
   "pygments_lexer": "ipython3",
   "version": "3.6.5"
  }
 },
 "nbformat": 4,
 "nbformat_minor": 1
}
