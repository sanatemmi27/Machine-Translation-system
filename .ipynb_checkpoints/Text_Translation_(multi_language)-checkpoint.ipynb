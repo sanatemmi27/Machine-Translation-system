{
 "cells": [
  {
   "cell_type": "code",
   "execution_count": 0,
   "metadata": {
    "colab": {},
    "colab_type": "code",
    "id": "bIP-XXNSCNWU"
   },
   "outputs": [],
   "source": [
    "import textblob\n",
    "from textblob import TextBlob"
   ]
  },
  {
   "cell_type": "code",
   "execution_count": 0,
   "metadata": {
    "colab": {},
    "colab_type": "code",
    "id": "KfVuM_jwf4qz"
   },
   "outputs": [],
   "source": [
    "b = TextBlob(u\"मैं अपनी सबक्रिशन योजना को बदलना चाहता हूं\")"
   ]
  },
  {
   "cell_type": "markdown",
   "metadata": {
    "colab_type": "text",
    "id": "MviRsd4B-VHO"
   },
   "source": [
    "*Detect text*"
   ]
  },
  {
   "cell_type": "code",
   "execution_count": 0,
   "metadata": {
    "colab": {
     "base_uri": "https://localhost:8080/",
     "height": 34
    },
    "colab_type": "code",
    "id": "FS7tcOyugKTG",
    "outputId": "63ca7058-fb7d-4605-8e2c-1f984a3b84cc"
   },
   "outputs": [
    {
     "data": {
      "text/plain": [
       "'hi'"
      ]
     },
     "execution_count": 25,
     "metadata": {
      "tags": []
     },
     "output_type": "execute_result"
    }
   ],
   "source": [
    "b.detect_language()"
   ]
  },
  {
   "cell_type": "markdown",
   "metadata": {
    "colab_type": "text",
    "id": "i7Sysbtt-dkI"
   },
   "source": [
    "Translate text"
   ]
  },
  {
   "cell_type": "code",
   "execution_count": 0,
   "metadata": {
    "colab": {
     "base_uri": "https://localhost:8080/",
     "height": 34
    },
    "colab_type": "code",
    "id": "ZBuGmPMSgMFp",
    "outputId": "55b5d716-213d-48ab-81f5-73f953ad6e1b"
   },
   "outputs": [
    {
     "data": {
      "text/plain": [
       "TextBlob(\"मला माझी सदस्यता योजना बदलू इच्छित आहे\")"
      ]
     },
     "execution_count": 26,
     "metadata": {
      "tags": []
     },
     "output_type": "execute_result"
    }
   ],
   "source": [
    "a = b.translate(to= \"mr\")\n",
    "a"
   ]
  },
  {
   "cell_type": "markdown",
   "metadata": {
    "colab_type": "text",
    "id": "RvycPVhn-wW8"
   },
   "source": [
    "English Text"
   ]
  },
  {
   "cell_type": "code",
   "execution_count": 0,
   "metadata": {
    "colab": {
     "base_uri": "https://localhost:8080/",
     "height": 34
    },
    "colab_type": "code",
    "id": "XPS4_5MBgW43",
    "outputId": "de868480-5765-479b-fbd2-193eefa7278d"
   },
   "outputs": [
    {
     "name": "stdout",
     "output_type": "stream",
     "text": [
      "I want to change my membership plan\n"
     ]
    }
   ],
   "source": [
    "\n",
    "text = a.translate(to=\"en\")\n",
    "print(text)\n",
    "#?textblob.translate()"
   ]
  },
  {
   "cell_type": "code",
   "execution_count": 0,
   "metadata": {
    "colab": {
     "base_uri": "https://localhost:8080/",
     "height": 34
    },
    "colab_type": "code",
    "id": "s1KEPRWdPR4J",
    "outputId": "1397fe11-faba-4bdd-858b-06ee5f123aa7"
   },
   "outputs": [
    {
     "name": "stdout",
     "output_type": "stream",
     "text": [
      "Python 3.6.8\n"
     ]
    }
   ],
   "source": [
    "!python --version\n"
   ]
  },
  {
   "cell_type": "code",
   "execution_count": 0,
   "metadata": {
    "colab": {
     "base_uri": "https://localhost:8080/",
     "height": 51
    },
    "colab_type": "code",
    "id": "5ltGxoK9mLiz",
    "outputId": "3d1ec045-c385-4ee8-e33d-2f3fa0c370f5"
   },
   "outputs": [
    {
     "name": "stdout",
     "output_type": "stream",
     "text": [
      "Translated(src=ko, dest=en, text=Good morning., pronunciation=None, extra_data=\"{'translat...\")\n"
     ]
    },
    {
     "data": {
      "text/plain": [
       "<googletrans.models.Translated at 0x7f3e6e9ea9e8>"
      ]
     },
     "execution_count": 17,
     "metadata": {
      "tags": []
     },
     "output_type": "execute_result"
    }
   ],
   "source": [
    "#!pip install googletrans\n",
    "from googletrans import Translator\n",
    "translator = Translator()\n",
    "translator.translate('안녕하세요.')\n",
    "# <Translated src=ko dest=en text=Good evening. pronunciation=Good evening.>\n",
    "print(translator.translate('안녕하세요.', dest='en'))\n",
    "#<Translated src=ko dest=ja text=こんにちは。 pronunciation=Kon'nichiwa.>\n",
    "\n",
    "\n",
    "# <Translated src=la dest=en text=The truth is my light pronunciation=The truth is my light>"
   ]
  },
  {
   "cell_type": "code",
   "execution_count": 0,
   "metadata": {
    "colab": {
     "base_uri": "https://localhost:8080/",
     "height": 34
    },
    "colab_type": "code",
    "id": "9GrsZ-0GpC8r",
    "outputId": "97fd3d5e-e5ef-464a-b79a-bf320942843f"
   },
   "outputs": [
    {
     "name": "stdout",
     "output_type": "stream",
     "text": [
      "Translated(src=la, dest=en, text=The truth is my light, pronunciation=The truth is my light, extra_data=\"{'translat...\")\n"
     ]
    }
   ],
   "source": [
    "a = translator.translate('veritas lux mea', src='la')\n",
    "print(a)"
   ]
  },
  {
   "cell_type": "code",
   "execution_count": 0,
   "metadata": {
    "colab": {},
    "colab_type": "code",
    "id": "JwAJbg0nrWDm"
   },
   "outputs": [],
   "source": []
  }
 ],
 "metadata": {
  "colab": {
   "name": "Text Translation (multi-language).ipynb",
   "provenance": []
  },
  "kernelspec": {
   "display_name": "Python 3",
   "language": "python",
   "name": "python3"
  },
  "language_info": {
   "codemirror_mode": {
    "name": "ipython",
    "version": 3
   },
   "file_extension": ".py",
   "mimetype": "text/x-python",
   "name": "python",
   "nbconvert_exporter": "python",
   "pygments_lexer": "ipython3",
   "version": "3.6.5"
  }
 },
 "nbformat": 4,
 "nbformat_minor": 1
}
